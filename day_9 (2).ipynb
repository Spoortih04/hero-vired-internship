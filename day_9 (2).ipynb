{
 "cells": [
  {
   "cell_type": "code",
   "execution_count": 15,
   "id": "27173e85",
   "metadata": {},
   "outputs": [
    {
     "name": "stdout",
     "output_type": "stream",
     "text": [
      "     rank                                              Video    Video views  \\\n",
      "0       1  20 Tennis shots if they were not filmed, NOBOD...      3,471,237   \n",
      "1       2  Lil Nas X - Old Town Road (Official Movie) ft....     54,071,677   \n",
      "2       3                 JoJo Siwa - Karma (Official Video)     34,206,747   \n",
      "3       4  Wiz Khalifa - See You Again ft. Charlie Puth [...  6,643,904,918   \n",
      "4       5                       伊賀の天然水強炭酸水「家族で、シュワシェア。」篇　15秒    236,085,971   \n",
      "..    ...                                                ...            ...   \n",
      "995   996  CALIFORNIA - MONDAY JUSTICE FEAT. SNOOP DOGG (...        943,248   \n",
      "996   997  John McEnroe's most famous outburst happened i...      4,853,621   \n",
      "997   998                         Adi Golan's Group - Teaser         56,578   \n",
      "998   999                   Keg tapping goes horribly wrong.        751,804   \n",
      "999  1000  LIVE Hurricane Irma - Downtown Orlando - Ameri...        554,438   \n",
      "\n",
      "          Likes Dislikes         Category  published  \n",
      "0        19,023      859              NaN       2017  \n",
      "1     3,497,955   78,799            Music       2019  \n",
      "2       293,563      NaN            Music       2024  \n",
      "3    44,861,602      NaN            Music       2015  \n",
      "4            38      NaN              NaN       2021  \n",
      "..          ...      ...              ...        ...  \n",
      "995       2,949       22            Music       2017  \n",
      "996       7,254      426           Sports       2010  \n",
      "997         NaN      NaN            Music       2014  \n",
      "998       3,427      313    Entertainment       2017  \n",
      "999         184        8  News & Politics       2016  \n",
      "\n",
      "[1000 rows x 7 columns]\n"
     ]
    }
   ],
   "source": [
    "import pandas as pd\n",
    "\n",
    "# Load the CSV file\n",
    "df = pd.read_csv(\"C:\\\\Users\\\\shekh\\\\Downloads\\\\top-1000-trending-youtube-videos.csv\")\n",
    "\n",
    "# Display basic info and first 5 rows\n",
    "#print(df.info())\n",
    "#print(df.head())\n",
    "print(df)"
   ]
  },
  {
   "cell_type": "code",
   "execution_count": 16,
   "id": "14195a99",
   "metadata": {},
   "outputs": [],
   "source": [
    "# Remove commas and convert to integers\n",
    "df['Video views'] = df['Video views'].str.replace(',', '').astype(float)\n",
    "df['Likes'] = df['Likes'].str.replace(',', '').astype(float)\n",
    "df['Dislikes'] = df['Dislikes'].str.replace(',', '').astype(float)\n"
   ]
  },
  {
   "cell_type": "code",
   "execution_count": 17,
   "id": "8b839b68",
   "metadata": {},
   "outputs": [
    {
     "name": "stdout",
     "output_type": "stream",
     "text": [
      "     rank                                              Video   Video views  \\\n",
      "0       1  20 Tennis shots if they were not filmed, NOBOD...  3.471237e+06   \n",
      "1       2  Lil Nas X - Old Town Road (Official Movie) ft....  5.407168e+07   \n",
      "2       3                 JoJo Siwa - Karma (Official Video)  3.420675e+07   \n",
      "3       4  Wiz Khalifa - See You Again ft. Charlie Puth [...  6.643905e+09   \n",
      "4       5                       伊賀の天然水強炭酸水「家族で、シュワシェア。」篇　15秒  2.360860e+08   \n",
      "..    ...                                                ...           ...   \n",
      "995   996  CALIFORNIA - MONDAY JUSTICE FEAT. SNOOP DOGG (...  9.432480e+05   \n",
      "996   997  John McEnroe's most famous outburst happened i...  4.853621e+06   \n",
      "997   998                         Adi Golan's Group - Teaser  5.657800e+04   \n",
      "998   999                   Keg tapping goes horribly wrong.  7.518040e+05   \n",
      "999  1000  LIVE Hurricane Irma - Downtown Orlando - Ameri...  5.544380e+05   \n",
      "\n",
      "          Likes  Dislikes         Category  published  \n",
      "0       19023.0     859.0              NaN       2017  \n",
      "1     3497955.0   78799.0            Music       2019  \n",
      "2      293563.0       NaN            Music       2024  \n",
      "3    44861602.0       NaN            Music       2015  \n",
      "4          38.0       NaN              NaN       2021  \n",
      "..          ...       ...              ...        ...  \n",
      "995      2949.0      22.0            Music       2017  \n",
      "996      7254.0     426.0           Sports       2010  \n",
      "997         NaN       NaN            Music       2014  \n",
      "998      3427.0     313.0    Entertainment       2017  \n",
      "999       184.0       8.0  News & Politics       2016  \n",
      "\n",
      "[1000 rows x 7 columns]\n"
     ]
    }
   ],
   "source": [
    "print(df)"
   ]
  },
  {
   "cell_type": "code",
   "execution_count": 18,
   "id": "88be7d64",
   "metadata": {},
   "outputs": [],
   "source": [
    "df_cleaned = df.dropna(subset=['Likes', 'Category'])"
   ]
  },
  {
   "cell_type": "code",
   "execution_count": 19,
   "id": "32eff0e1",
   "metadata": {},
   "outputs": [],
   "source": [
    "df_cleaned = df_cleaned.drop(columns=['Dislikes'])\n"
   ]
  },
  {
   "cell_type": "code",
   "execution_count": 20,
   "id": "d2b91ddb",
   "metadata": {},
   "outputs": [
    {
     "name": "stdout",
     "output_type": "stream",
     "text": [
      "<class 'pandas.core.frame.DataFrame'>\n",
      "Index: 804 entries, 1 to 999\n",
      "Data columns (total 6 columns):\n",
      " #   Column       Non-Null Count  Dtype  \n",
      "---  ------       --------------  -----  \n",
      " 0   rank         804 non-null    int64  \n",
      " 1   Video        804 non-null    object \n",
      " 2   Video views  804 non-null    float64\n",
      " 3   Likes        804 non-null    float64\n",
      " 4   Category     804 non-null    object \n",
      " 5   published    804 non-null    int64  \n",
      "dtypes: float64(2), int64(2), object(2)\n",
      "memory usage: 44.0+ KB\n"
     ]
    },
    {
     "data": {
      "text/html": [
       "<div>\n",
       "<style scoped>\n",
       "    .dataframe tbody tr th:only-of-type {\n",
       "        vertical-align: middle;\n",
       "    }\n",
       "\n",
       "    .dataframe tbody tr th {\n",
       "        vertical-align: top;\n",
       "    }\n",
       "\n",
       "    .dataframe thead th {\n",
       "        text-align: right;\n",
       "    }\n",
       "</style>\n",
       "<table border=\"1\" class=\"dataframe\">\n",
       "  <thead>\n",
       "    <tr style=\"text-align: right;\">\n",
       "      <th></th>\n",
       "      <th>rank</th>\n",
       "      <th>Video</th>\n",
       "      <th>Video views</th>\n",
       "      <th>Likes</th>\n",
       "      <th>Dislikes</th>\n",
       "      <th>Category</th>\n",
       "      <th>published</th>\n",
       "    </tr>\n",
       "  </thead>\n",
       "  <tbody>\n",
       "    <tr>\n",
       "      <th>0</th>\n",
       "      <td>1</td>\n",
       "      <td>20 Tennis shots if they were not filmed, NOBOD...</td>\n",
       "      <td>3.471237e+06</td>\n",
       "      <td>19023.0</td>\n",
       "      <td>859.0</td>\n",
       "      <td>NaN</td>\n",
       "      <td>2017</td>\n",
       "    </tr>\n",
       "    <tr>\n",
       "      <th>1</th>\n",
       "      <td>2</td>\n",
       "      <td>Lil Nas X - Old Town Road (Official Movie) ft....</td>\n",
       "      <td>5.407168e+07</td>\n",
       "      <td>3497955.0</td>\n",
       "      <td>78799.0</td>\n",
       "      <td>Music</td>\n",
       "      <td>2019</td>\n",
       "    </tr>\n",
       "    <tr>\n",
       "      <th>2</th>\n",
       "      <td>3</td>\n",
       "      <td>JoJo Siwa - Karma (Official Video)</td>\n",
       "      <td>3.420675e+07</td>\n",
       "      <td>293563.0</td>\n",
       "      <td>NaN</td>\n",
       "      <td>Music</td>\n",
       "      <td>2024</td>\n",
       "    </tr>\n",
       "    <tr>\n",
       "      <th>3</th>\n",
       "      <td>4</td>\n",
       "      <td>Wiz Khalifa - See You Again ft. Charlie Puth [...</td>\n",
       "      <td>6.643905e+09</td>\n",
       "      <td>44861602.0</td>\n",
       "      <td>NaN</td>\n",
       "      <td>Music</td>\n",
       "      <td>2015</td>\n",
       "    </tr>\n",
       "    <tr>\n",
       "      <th>4</th>\n",
       "      <td>5</td>\n",
       "      <td>伊賀の天然水強炭酸水「家族で、シュワシェア。」篇　15秒</td>\n",
       "      <td>2.360860e+08</td>\n",
       "      <td>38.0</td>\n",
       "      <td>NaN</td>\n",
       "      <td>NaN</td>\n",
       "      <td>2021</td>\n",
       "    </tr>\n",
       "  </tbody>\n",
       "</table>\n",
       "</div>"
      ],
      "text/plain": [
       "   rank                                              Video   Video views  \\\n",
       "0     1  20 Tennis shots if they were not filmed, NOBOD...  3.471237e+06   \n",
       "1     2  Lil Nas X - Old Town Road (Official Movie) ft....  5.407168e+07   \n",
       "2     3                 JoJo Siwa - Karma (Official Video)  3.420675e+07   \n",
       "3     4  Wiz Khalifa - See You Again ft. Charlie Puth [...  6.643905e+09   \n",
       "4     5                       伊賀の天然水強炭酸水「家族で、シュワシェア。」篇　15秒  2.360860e+08   \n",
       "\n",
       "        Likes  Dislikes Category  published  \n",
       "0     19023.0     859.0      NaN       2017  \n",
       "1   3497955.0   78799.0    Music       2019  \n",
       "2    293563.0       NaN    Music       2024  \n",
       "3  44861602.0       NaN    Music       2015  \n",
       "4        38.0       NaN      NaN       2021  "
      ]
     },
     "execution_count": 20,
     "metadata": {},
     "output_type": "execute_result"
    }
   ],
   "source": [
    "df_cleaned.info()\n",
    "\n",
    "df.head()"
   ]
  },
  {
   "cell_type": "code",
   "execution_count": 21,
   "id": "ca011102",
   "metadata": {},
   "outputs": [],
   "source": [
    "df_cleaned = df.dropna()\n"
   ]
  },
  {
   "cell_type": "code",
   "execution_count": 22,
   "id": "531ffddd",
   "metadata": {},
   "outputs": [
    {
     "name": "stdout",
     "output_type": "stream",
     "text": [
      "     rank                                              Video   Video views  \\\n",
      "0       1  20 Tennis shots if they were not filmed, NOBOD...  3.471237e+06   \n",
      "1       2  Lil Nas X - Old Town Road (Official Movie) ft....  5.407168e+07   \n",
      "2       3                 JoJo Siwa - Karma (Official Video)  3.420675e+07   \n",
      "3       4  Wiz Khalifa - See You Again ft. Charlie Puth [...  6.643905e+09   \n",
      "4       5                       伊賀の天然水強炭酸水「家族で、シュワシェア。」篇　15秒  2.360860e+08   \n",
      "..    ...                                                ...           ...   \n",
      "995   996  CALIFORNIA - MONDAY JUSTICE FEAT. SNOOP DOGG (...  9.432480e+05   \n",
      "996   997  John McEnroe's most famous outburst happened i...  4.853621e+06   \n",
      "997   998                         Adi Golan's Group - Teaser  5.657800e+04   \n",
      "998   999                   Keg tapping goes horribly wrong.  7.518040e+05   \n",
      "999  1000  LIVE Hurricane Irma - Downtown Orlando - Ameri...  5.544380e+05   \n",
      "\n",
      "          Likes  Dislikes         Category  published  \n",
      "0       19023.0     859.0              NaN       2017  \n",
      "1     3497955.0   78799.0            Music       2019  \n",
      "2      293563.0       NaN            Music       2024  \n",
      "3    44861602.0       NaN            Music       2015  \n",
      "4          38.0       NaN              NaN       2021  \n",
      "..          ...       ...              ...        ...  \n",
      "995      2949.0      22.0            Music       2017  \n",
      "996      7254.0     426.0           Sports       2010  \n",
      "997         NaN       NaN            Music       2014  \n",
      "998      3427.0     313.0    Entertainment       2017  \n",
      "999       184.0       8.0  News & Politics       2016  \n",
      "\n",
      "[1000 rows x 7 columns]\n"
     ]
    }
   ],
   "source": [
    "print(df)\n"
   ]
  },
  {
   "cell_type": "code",
   "execution_count": 23,
   "id": "62c74f0d",
   "metadata": {},
   "outputs": [
    {
     "name": "stdout",
     "output_type": "stream",
     "text": [
      "Empty DataFrame\n",
      "Columns: [rank, Video, Video views, Likes, Dislikes, Category, published]\n",
      "Index: []\n"
     ]
    }
   ],
   "source": [
    "duplicates = df[df.duplicated()]\n",
    "print(duplicates)\n"
   ]
  },
  {
   "cell_type": "code",
   "execution_count": 24,
   "id": "db525007",
   "metadata": {},
   "outputs": [],
   "source": [
    "df_no_duplicates = df.drop_duplicates()"
   ]
  },
  {
   "cell_type": "code",
   "execution_count": 25,
   "id": "5ea4f271",
   "metadata": {},
   "outputs": [],
   "source": [
    "df_no_duplicates = df.drop_duplicates(subset=['Video'])"
   ]
  },
  {
   "cell_type": "code",
   "execution_count": 26,
   "id": "3596c5e1",
   "metadata": {},
   "outputs": [],
   "source": [
    "df_no_duplicates = df.drop_duplicates(keep='last')"
   ]
  },
  {
   "cell_type": "code",
   "execution_count": 27,
   "id": "04877a8f",
   "metadata": {},
   "outputs": [],
   "source": [
    "df_no_duplicates = df_no_duplicates.reset_index(drop=True)"
   ]
  },
  {
   "cell_type": "code",
   "execution_count": 28,
   "id": "e3ecac6b",
   "metadata": {},
   "outputs": [
    {
     "name": "stdout",
     "output_type": "stream",
     "text": [
      "     rank                                              Video   Video views  \\\n",
      "0       1  20 Tennis shots if they were not filmed, NOBOD...  3.471237e+06   \n",
      "1       2  Lil Nas X - Old Town Road (Official Movie) ft....  5.407168e+07   \n",
      "2       3                 JoJo Siwa - Karma (Official Video)  3.420675e+07   \n",
      "3       4  Wiz Khalifa - See You Again ft. Charlie Puth [...  6.643905e+09   \n",
      "4       5                       伊賀の天然水強炭酸水「家族で、シュワシェア。」篇　15秒  2.360860e+08   \n",
      "..    ...                                                ...           ...   \n",
      "995   996  CALIFORNIA - MONDAY JUSTICE FEAT. SNOOP DOGG (...  9.432480e+05   \n",
      "996   997  John McEnroe's most famous outburst happened i...  4.853621e+06   \n",
      "997   998                         Adi Golan's Group - Teaser  5.657800e+04   \n",
      "998   999                   Keg tapping goes horribly wrong.  7.518040e+05   \n",
      "999  1000  LIVE Hurricane Irma - Downtown Orlando - Ameri...  5.544380e+05   \n",
      "\n",
      "          Likes  Dislikes         Category  published  \n",
      "0       19023.0     859.0              NaN       2017  \n",
      "1     3497955.0   78799.0            Music       2019  \n",
      "2      293563.0       NaN            Music       2024  \n",
      "3    44861602.0       NaN            Music       2015  \n",
      "4          38.0       NaN              NaN       2021  \n",
      "..          ...       ...              ...        ...  \n",
      "995      2949.0      22.0            Music       2017  \n",
      "996      7254.0     426.0           Sports       2010  \n",
      "997         NaN       NaN            Music       2014  \n",
      "998      3427.0     313.0    Entertainment       2017  \n",
      "999       184.0       8.0  News & Politics       2016  \n",
      "\n",
      "[1000 rows x 7 columns]\n"
     ]
    }
   ],
   "source": [
    "print(df)"
   ]
  },
  {
   "cell_type": "code",
   "execution_count": 29,
   "id": "72a77e3b",
   "metadata": {},
   "outputs": [
    {
     "name": "stdout",
     "output_type": "stream",
     "text": [
      "Duplicate rows: 0\n"
     ]
    }
   ],
   "source": [
    "print(\"Duplicate rows:\", df.duplicated().sum())\n"
   ]
  },
  {
   "cell_type": "code",
   "execution_count": 30,
   "id": "835241e9",
   "metadata": {},
   "outputs": [
    {
     "name": "stdout",
     "output_type": "stream",
     "text": [
      "Empty DataFrame\n",
      "Columns: [rank, Video, Video views, Likes, Dislikes, Category, published]\n",
      "Index: []\n"
     ]
    }
   ],
   "source": [
    "print(df[df.duplicated()])\n"
   ]
  },
  {
   "cell_type": "code",
   "execution_count": 32,
   "id": "53f9054f",
   "metadata": {},
   "outputs": [
    {
     "data": {
      "text/plain": [
       "rank            0.0\n",
       "Video           0.0\n",
       "Video views     0.0\n",
       "Likes           2.7\n",
       "Dislikes       31.3\n",
       "Category       18.0\n",
       "published       0.0\n",
       "dtype: float64"
      ]
     },
     "execution_count": 32,
     "metadata": {},
     "output_type": "execute_result"
    }
   ],
   "source": [
    "df.isnull().sum()\n",
    "\n",
    "df.isnull().mean() * 100\n"
   ]
  },
  {
   "cell_type": "code",
   "execution_count": null,
   "id": "6df6bc5c",
   "metadata": {},
   "outputs": [],
   "source": []
  }
 ],
 "metadata": {
  "kernelspec": {
   "display_name": "Python 3 (ipykernel)",
   "language": "python",
   "name": "python3"
  },
  "language_info": {
   "codemirror_mode": {
    "name": "ipython",
    "version": 3
   },
   "file_extension": ".py",
   "mimetype": "text/x-python",
   "name": "python",
   "nbconvert_exporter": "python",
   "pygments_lexer": "ipython3",
   "version": "3.11.5"
  }
 },
 "nbformat": 4,
 "nbformat_minor": 5
}
